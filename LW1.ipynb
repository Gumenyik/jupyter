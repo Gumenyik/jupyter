{
 "cells": [
  {
   "cell_type": "code",
   "execution_count": 2,
   "id": "3efeb133",
   "metadata": {
    "ExecuteTime": {
     "end_time": "2021-09-30T06:50:48.969022Z",
     "start_time": "2021-09-30T06:50:43.336257Z"
    }
   },
   "outputs": [],
   "source": [
    "from simple_benchmark import benchmark\n",
    "import matplotlib.pyplot as plt\n",
    "import math\n",
    "import random \n",
    "import numpy"
   ]
  },
  {
   "cell_type": "markdown",
   "id": "dd3714db",
   "metadata": {},
   "source": [
    "Завдання 4"
   ]
  },
  {
   "cell_type": "code",
   "execution_count": 1,
   "id": "2de1b83e",
   "metadata": {
    "ExecuteTime": {
     "end_time": "2021-09-25T07:33:50.226203Z",
     "start_time": "2021-09-25T07:33:50.161085Z"
    }
   },
   "outputs": [
    {
     "name": "stdout",
     "output_type": "stream",
     "text": [
      "Wall time: 2.99 ms\n"
     ]
    },
    {
     "data": {
      "text/plain": [
       "4999950000"
      ]
     },
     "execution_count": 1,
     "metadata": {},
     "output_type": "execute_result"
    }
   ],
   "source": [
    "#4.1\n",
    "\n",
    "n_for4_1 = 10 ** 5\n",
    "%time sum(range(0, n_for4_1))"
   ]
  },
  {
   "cell_type": "code",
   "execution_count": 5,
   "id": "cfd38634",
   "metadata": {
    "ExecuteTime": {
     "end_time": "2021-09-25T07:35:17.639148Z",
     "start_time": "2021-09-25T07:35:17.628178Z"
    }
   },
   "outputs": [
    {
     "name": "stdout",
     "output_type": "stream",
     "text": [
      "Wall time: 2.03 ms\n"
     ]
    },
    {
     "data": {
      "text/plain": [
       "4999950000"
      ]
     },
     "execution_count": 5,
     "metadata": {},
     "output_type": "execute_result"
    }
   ],
   "source": [
    "%%time \n",
    "\n",
    "#4.2\n",
    "\n",
    "n_for4_2 = 10 ** 6\n",
    "sum(range(0, n_for4_2))"
   ]
  },
  {
   "cell_type": "markdown",
   "id": "eef98b80",
   "metadata": {},
   "source": [
    "Завдання 5"
   ]
  },
  {
   "cell_type": "code",
   "execution_count": 7,
   "id": "d29e28d5",
   "metadata": {
    "ExecuteTime": {
     "end_time": "2021-09-25T11:01:45.634798Z",
     "start_time": "2021-09-25T11:01:43.677244Z"
    }
   },
   "outputs": [
    {
     "name": "stdout",
     "output_type": "stream",
     "text": [
      "2.34 ms ± 107 µs per loop (mean ± std. dev. of 7 runs, 100 loops each)\n"
     ]
    }
   ],
   "source": [
    "#5.1(default)\n",
    "\n",
    "n_for5_1 = 10 ** 4\n",
    "%timeit sum(range(0, n_for5_1))"
   ]
  },
  {
   "cell_type": "code",
   "execution_count": 8,
   "id": "925adbb1",
   "metadata": {
    "ExecuteTime": {
     "end_time": "2021-09-25T11:01:54.413039Z",
     "start_time": "2021-09-25T11:01:52.561844Z"
    }
   },
   "outputs": [
    {
     "name": "stdout",
     "output_type": "stream",
     "text": [
      "2.27 ms ± 34.9 µs per loop (mean ± std. dev. of 7 runs, 100 loops each)\n"
     ]
    }
   ],
   "source": [
    "%%timeit \n",
    "\n",
    "#5.2(default)\n",
    "\n",
    "n_for5_2 = 10 ** 7\n",
    "sum(range(0, n_for5_2))"
   ]
  },
  {
   "cell_type": "code",
   "execution_count": 10,
   "id": "c9a1d2a4",
   "metadata": {
    "ExecuteTime": {
     "end_time": "2021-09-25T11:04:01.839863Z",
     "start_time": "2021-09-25T11:04:00.262419Z"
    }
   },
   "outputs": [
    {
     "name": "stdout",
     "output_type": "stream",
     "text": [
      "31.3 ms ± 650 µs per loop (mean ± std. dev. of 10 runs, 5 loops each)\n"
     ]
    }
   ],
   "source": [
    "#5.1\n",
    "\n",
    "n_for5_3 = 10 ** 6\n",
    "%timeit -r 10 -n 5 sum(range(0, n_for5_3))"
   ]
  },
  {
   "cell_type": "code",
   "execution_count": 12,
   "id": "a99ee694",
   "metadata": {
    "ExecuteTime": {
     "end_time": "2021-09-25T11:04:50.806472Z",
     "start_time": "2021-09-25T11:04:34.642836Z"
    }
   },
   "outputs": [
    {
     "name": "stdout",
     "output_type": "stream",
     "text": [
      "323 ms ± 4.31 ms per loop (mean ± std. dev. of 10 runs, 5 loops each)\n"
     ]
    }
   ],
   "source": [
    "%%timeit -r 10 -n 5\n",
    "\n",
    "#5.2\n",
    "\n",
    "n_for5_4 = 10 ** 7\n",
    "sum(range(0, n_for5_4))"
   ]
  },
  {
   "cell_type": "markdown",
   "id": "e284ec1f",
   "metadata": {},
   "source": [
    "Завдання 6"
   ]
  },
  {
   "cell_type": "code",
   "execution_count": 38,
   "id": "0ec8ee56",
   "metadata": {
    "ExecuteTime": {
     "end_time": "2021-09-30T10:20:27.759841Z",
     "start_time": "2021-09-30T10:20:27.748837Z"
    }
   },
   "outputs": [
    {
     "name": "stdout",
     "output_type": "stream",
     "text": [
      "167 µs ± 8.53 µs per loop (mean ± std. dev. of 10 runs, 1 loop each)\n",
      "[0.00016569999934290536, 0.00016939999841270037, 0.00018510000154492445, 0.0001726000009512063, 0.00017599999955564272, 0.00015630000052624382, 0.0001587999995535938, 0.00016200000027311035, 0.00016089999917312525, 0.0001609999999345746]\n"
     ]
    }
   ],
   "source": [
    "#6.1\n",
    "\n",
    "\n",
    "all_6 = %timeit -r 10 -n 1 -o sum(range(0, n_for6_1))\n",
    "print(all_6.timings)\n",
    "#Якщо все потрібно примінити до одного виразу\n",
    "#print(all_6.best * (10 ** 9),\" ns\")"
   ]
  },
  {
   "cell_type": "code",
   "execution_count": 35,
   "id": "f1b3349e",
   "metadata": {
    "ExecuteTime": {
     "end_time": "2021-09-30T10:13:55.006253Z",
     "start_time": "2021-09-30T10:13:54.989301Z"
    }
   },
   "outputs": [
    {
     "name": "stdout",
     "output_type": "stream",
     "text": [
      "The slowest run took 13.50 times longer than the fastest. This could mean that an intermediate result is being cached.\n",
      "590 ns ± 708 ns per loop (mean ± std. dev. of 10 runs, 1 loop each)\n",
      "199.99970390927047  ns\n"
     ]
    }
   ],
   "source": [
    "#6.2 \n",
    "\n",
    "minimal_6 = %timeit -r 10 -n 1 -o math.exp(math.pi/4)\n",
    "print(minimal_6.best * (10 ** 9),\" ns\")"
   ]
  },
  {
   "cell_type": "markdown",
   "id": "be134297",
   "metadata": {},
   "source": [
    "Завдання 7"
   ]
  },
  {
   "cell_type": "code",
   "execution_count": 3,
   "id": "82ce0360",
   "metadata": {
    "ExecuteTime": {
     "end_time": "2021-09-26T08:43:07.956560Z",
     "start_time": "2021-09-26T08:43:07.937520Z"
    }
   },
   "outputs": [
    {
     "data": {
      "text/plain": [
       "2.1932800507380152"
      ]
     },
     "execution_count": 3,
     "metadata": {},
     "output_type": "execute_result"
    }
   ],
   "source": [
    "#7.1\n",
    "\n",
    "def func_7d1():\n",
    "    return math.exp(math.pi/4)\n",
    "func_7d1()"
   ]
  },
  {
   "cell_type": "code",
   "execution_count": 5,
   "id": "0b733fc4",
   "metadata": {
    "ExecuteTime": {
     "end_time": "2021-09-26T08:48:18.286063Z",
     "start_time": "2021-09-26T08:48:18.276090Z"
    }
   },
   "outputs": [
    {
     "name": "stdout",
     "output_type": "stream",
     "text": [
      "Wall time: 0 ns\n"
     ]
    },
    {
     "data": {
      "text/plain": [
       "2.1932800507380152"
      ]
     },
     "execution_count": 5,
     "metadata": {},
     "output_type": "execute_result"
    }
   ],
   "source": [
    "#7.1(%time)\n",
    "\n",
    "def func_7d1():\n",
    "    return math.exp(math.pi/4)\n",
    "%time func_7d1()"
   ]
  },
  {
   "cell_type": "code",
   "execution_count": 6,
   "id": "9bc80647",
   "metadata": {
    "ExecuteTime": {
     "end_time": "2021-09-26T08:48:24.902246Z",
     "start_time": "2021-09-26T08:48:24.890277Z"
    }
   },
   "outputs": [
    {
     "name": "stdout",
     "output_type": "stream",
     "text": [
      "Wall time: 0 ns\n"
     ]
    },
    {
     "data": {
      "text/plain": [
       "2.1932800507380152"
      ]
     },
     "execution_count": 6,
     "metadata": {},
     "output_type": "execute_result"
    }
   ],
   "source": [
    "%%time\n",
    "\n",
    "#7.1(%%time)\n",
    "\n",
    "def func_7d1():\n",
    "     return math.exp(math.pi/4)\n",
    "func_7d1()"
   ]
  },
  {
   "cell_type": "code",
   "execution_count": 10,
   "id": "d9e6a012",
   "metadata": {
    "ExecuteTime": {
     "end_time": "2021-09-26T08:55:25.839601Z",
     "start_time": "2021-09-26T08:55:22.882999Z"
    }
   },
   "outputs": [
    {
     "name": "stdout",
     "output_type": "stream",
     "text": [
      "265 ns ± 10.2 ns per loop (mean ± std. dev. of 10 runs, 1000000 loops each)\n"
     ]
    },
    {
     "data": {
      "text/plain": [
       "2.4676369999997406e-07"
      ]
     },
     "execution_count": 10,
     "metadata": {},
     "output_type": "execute_result"
    }
   ],
   "source": [
    "#7.1(%timeit.best)\n",
    "\n",
    "def func_7d1():\n",
    "    return math.exp(math.pi/4)\n",
    "best_7_1 = %timeit -r 10 -o func_7d1()\n",
    "best_7_1.best"
   ]
  },
  {
   "cell_type": "code",
   "execution_count": 11,
   "id": "57688c3e",
   "metadata": {
    "ExecuteTime": {
     "end_time": "2021-09-26T08:55:31.001472Z",
     "start_time": "2021-09-26T08:55:27.091349Z"
    }
   },
   "outputs": [
    {
     "name": "stdout",
     "output_type": "stream",
     "text": [
      "351 ns ± 15.3 ns per loop (mean ± std. dev. of 10 runs, 1000000 loops each)\n"
     ]
    }
   ],
   "source": [
    "%%timeit -r 10 \n",
    "\n",
    "#7.1(%%time)\n",
    "\n",
    "def func_7d1():\n",
    "     return math.exp(math.pi/4)\n",
    "func_7d1()"
   ]
  },
  {
   "cell_type": "code",
   "execution_count": 13,
   "id": "865dc557",
   "metadata": {
    "ExecuteTime": {
     "end_time": "2021-09-26T08:58:33.252520Z",
     "start_time": "2021-09-26T08:58:33.236564Z"
    }
   },
   "outputs": [
    {
     "data": {
      "text/plain": [
       "0.9884871532430541"
      ]
     },
     "execution_count": 13,
     "metadata": {},
     "output_type": "execute_result"
    }
   ],
   "source": [
    "#7.2 \n",
    "\n",
    "def func_7d2(n):\n",
    "    sum_7d2 = 0\n",
    "    for i in range(0, n):\n",
    "        sum_7d2 += random.uniform(-1, 1) \n",
    "        \n",
    "    result = math.exp(sum_7d2/n)\n",
    "    return result\n",
    "func_7d2(10000)\n",
    "        "
   ]
  },
  {
   "cell_type": "code",
   "execution_count": 18,
   "id": "8f1528fb",
   "metadata": {
    "ExecuteTime": {
     "end_time": "2021-09-26T09:08:25.672575Z",
     "start_time": "2021-09-26T09:08:25.651581Z"
    }
   },
   "outputs": [
    {
     "name": "stdout",
     "output_type": "stream",
     "text": [
      "Wall time: 2.99 ms\n"
     ]
    },
    {
     "data": {
      "text/plain": [
       "0.9968126656337913"
      ]
     },
     "execution_count": 18,
     "metadata": {},
     "output_type": "execute_result"
    }
   ],
   "source": [
    "#7.2(%time)\n",
    "\n",
    "def func_7d2(n):\n",
    "    sum_7d2 = 0\n",
    "    for i in range(0, n):\n",
    "        sum_7d2 += random.uniform(-1, 1) \n",
    "        \n",
    "    result = math.exp(sum_7d2/n)\n",
    "    return result\n",
    "%time func_7d2(10000)"
   ]
  },
  {
   "cell_type": "code",
   "execution_count": 15,
   "id": "069d0bbf",
   "metadata": {
    "ExecuteTime": {
     "end_time": "2021-09-26T08:59:39.907512Z",
     "start_time": "2021-09-26T08:59:39.891553Z"
    }
   },
   "outputs": [
    {
     "name": "stdout",
     "output_type": "stream",
     "text": [
      "Wall time: 2.99 ms\n"
     ]
    },
    {
     "data": {
      "text/plain": [
       "1.0021870141597045"
      ]
     },
     "execution_count": 15,
     "metadata": {},
     "output_type": "execute_result"
    }
   ],
   "source": [
    "%%time\n",
    "\n",
    "#7.2(%%time)\n",
    "\n",
    "def func_7d2(n):\n",
    "    sum_7d2 = 0\n",
    "    for i in range(0, n):\n",
    "        sum_7d2 += random.uniform(-1, 1) \n",
    "        \n",
    "    result = math.exp(sum_7d2/n)\n",
    "    return result\n",
    "func_7d2(10000)"
   ]
  },
  {
   "cell_type": "code",
   "execution_count": 19,
   "id": "5df627e3",
   "metadata": {
    "ExecuteTime": {
     "end_time": "2021-09-26T09:10:20.332769Z",
     "start_time": "2021-09-26T09:10:15.853442Z"
    }
   },
   "outputs": [
    {
     "name": "stdout",
     "output_type": "stream",
     "text": [
      "3.96 ms ± 223 µs per loop (mean ± std. dev. of 10 runs, 100 loops each)\n"
     ]
    },
    {
     "data": {
      "text/plain": [
       "0.0036708939999971334"
      ]
     },
     "execution_count": 19,
     "metadata": {},
     "output_type": "execute_result"
    }
   ],
   "source": [
    "#7.2(%timeit)\n",
    "\n",
    "def func_7d2(n):\n",
    "    sum_7d2 = 0\n",
    "    for i in range(0, n):\n",
    "        sum_7d2 += random.uniform(-1, 1) \n",
    "        \n",
    "    result = math.exp(sum_7d2/n)\n",
    "    return result\n",
    "best_7d2 = %timeit -r 10 -o func_7d2(10000)\n",
    "best_7d2.best"
   ]
  },
  {
   "cell_type": "code",
   "execution_count": 23,
   "id": "d5d566df",
   "metadata": {
    "ExecuteTime": {
     "end_time": "2021-09-26T09:12:54.293995Z",
     "start_time": "2021-09-26T09:12:50.611906Z"
    }
   },
   "outputs": [
    {
     "name": "stdout",
     "output_type": "stream",
     "text": [
      "3.31 ms ± 125 µs per loop (mean ± std. dev. of 10 runs, 100 loops each)\n"
     ]
    }
   ],
   "source": [
    "%%timeit -r 10\n",
    "\n",
    "#7.2(%%timeit)\n",
    "\n",
    "def func_7d2(n):\n",
    "    sum_7d2 = 0\n",
    "    for i in range(0, n):\n",
    "        sum_7d2 += random.uniform(-1, 1) \n",
    "        \n",
    "    result = math.exp(sum_7d2/n)\n",
    "    return result\n",
    "func_7d2(10000)"
   ]
  },
  {
   "cell_type": "code",
   "execution_count": 28,
   "id": "98f25e1e",
   "metadata": {
    "ExecuteTime": {
     "end_time": "2021-09-26T09:17:39.964198Z",
     "start_time": "2021-09-26T09:17:39.948733Z"
    }
   },
   "outputs": [
    {
     "data": {
      "text/plain": [
       "1.177789058020144"
      ]
     },
     "execution_count": 28,
     "metadata": {},
     "output_type": "execute_result"
    }
   ],
   "source": [
    "#7.3\n",
    "\n",
    "def func_7d3(n):\n",
    "    sum_7d3 = 0\n",
    "    for i in range(0, n):\n",
    "        sum_7d3 += math.exp(random.uniform(-1, 1)) \n",
    "        \n",
    "    result = sum_7d3/n\n",
    "    return result\n",
    "func_7d3(10000)"
   ]
  },
  {
   "cell_type": "code",
   "execution_count": 29,
   "id": "5fd33e58",
   "metadata": {
    "ExecuteTime": {
     "end_time": "2021-09-26T09:17:47.205078Z",
     "start_time": "2021-09-26T09:17:47.180635Z"
    }
   },
   "outputs": [
    {
     "name": "stdout",
     "output_type": "stream",
     "text": [
      "Wall time: 7.98 ms\n"
     ]
    },
    {
     "data": {
      "text/plain": [
       "1.16566990905388"
      ]
     },
     "execution_count": 29,
     "metadata": {},
     "output_type": "execute_result"
    }
   ],
   "source": [
    "#7.3(%time)\n",
    "\n",
    "def func_7d3(n):\n",
    "    sum_7d3 = 0\n",
    "    for i in range(0, n):\n",
    "        sum_7d3 += math.exp(random.uniform(-1, 1)) \n",
    "        \n",
    "    result = sum_7d3/n\n",
    "    return result\n",
    "%time func_7d3(10000)"
   ]
  },
  {
   "cell_type": "code",
   "execution_count": 30,
   "id": "45a9172e",
   "metadata": {
    "ExecuteTime": {
     "end_time": "2021-09-26T09:17:54.021027Z",
     "start_time": "2021-09-26T09:17:54.004074Z"
    }
   },
   "outputs": [
    {
     "name": "stdout",
     "output_type": "stream",
     "text": [
      "Wall time: 5.98 ms\n"
     ]
    },
    {
     "data": {
      "text/plain": [
       "1.1659454432538152"
      ]
     },
     "execution_count": 30,
     "metadata": {},
     "output_type": "execute_result"
    }
   ],
   "source": [
    "%%time\n",
    "\n",
    "#7.3(%%time)\n",
    "\n",
    "def func_7d3(n):\n",
    "    sum_7d3 = 0\n",
    "    for i in range(0, n):\n",
    "        sum_7d3 += math.exp(random.uniform(-1, 1)) \n",
    "        \n",
    "    result = sum_7d3/n\n",
    "    return result\n",
    "func_7d3(10000)"
   ]
  },
  {
   "cell_type": "code",
   "execution_count": 31,
   "id": "7dc5d12d",
   "metadata": {
    "ExecuteTime": {
     "end_time": "2021-09-26T09:18:30.288582Z",
     "start_time": "2021-09-26T09:18:24.876697Z"
    }
   },
   "outputs": [
    {
     "name": "stdout",
     "output_type": "stream",
     "text": [
      "4.82 ms ± 254 µs per loop (mean ± std. dev. of 10 runs, 100 loops each)\n"
     ]
    },
    {
     "data": {
      "text/plain": [
       "0.0045471619999989344"
      ]
     },
     "execution_count": 31,
     "metadata": {},
     "output_type": "execute_result"
    }
   ],
   "source": [
    "#7.3(%timeit)\n",
    "\n",
    "def func_7d3(n):\n",
    "    sum_7d3 = 0\n",
    "    for i in range(0, n):\n",
    "        sum_7d3 += math.exp(random.uniform(-1, 1)) \n",
    "        \n",
    "    result = sum_7d3/n\n",
    "    return result\n",
    "best_7d3 = %timeit -r 10 -o func_7d3(10000)\n",
    "best_7d3.best"
   ]
  },
  {
   "cell_type": "code",
   "execution_count": 32,
   "id": "c2e742f3",
   "metadata": {
    "ExecuteTime": {
     "end_time": "2021-09-26T09:18:39.119189Z",
     "start_time": "2021-09-26T09:18:33.693909Z"
    }
   },
   "outputs": [
    {
     "name": "stdout",
     "output_type": "stream",
     "text": [
      "4.86 ms ± 133 µs per loop (mean ± std. dev. of 10 runs, 100 loops each)\n"
     ]
    }
   ],
   "source": [
    "%%timeit -r 10\n",
    "\n",
    "#7.3(%%timeit)\n",
    "\n",
    "def func_7d3(n):\n",
    "    sum_7d3 = 0\n",
    "    for i in range(0, n):\n",
    "        sum_7d3 += math.exp(random.uniform(-1, 1)) \n",
    "        \n",
    "    result = sum_7d3/n\n",
    "    return result\n",
    "func_7d3(10000)"
   ]
  },
  {
   "cell_type": "markdown",
   "id": "b3a987d2",
   "metadata": {},
   "source": [
    " Вираз | Автооцінювання |   %time  |  %%time | %timeit(мінімальний) | %%timeit \n",
    " ----- | -------------- | -------- | ------- | -------------------- | ----------   \n",
    "   1   |    `19ms`      |   `0ns`  |  `0ns`  |         `246ns`      |  `351ns`\n",
    "   2   |    `16ms`      | `2.99ms` | `2.99ms`|         `3.67ms`     |  `3.31ms`\n",
    "   3   |    `16ms`      | `7.98ms` | `5.98ms`|         `4.54ms`     |  `4.86ms`"
   ]
  },
  {
   "cell_type": "markdown",
   "id": "56304c27",
   "metadata": {},
   "source": [
    "Завдання 9"
   ]
  },
  {
   "cell_type": "code",
   "execution_count": 33,
   "id": "742a41b4",
   "metadata": {
    "ExecuteTime": {
     "end_time": "2021-09-26T09:39:49.155848Z",
     "start_time": "2021-09-26T09:39:35.710640Z"
    }
   },
   "outputs": [
    {
     "name": "stdout",
     "output_type": "stream",
     "text": [
      "Requirement already satisfied: simple-benchmark in b:\\program files (x86)\\anaconda3\\lib\\site-packages (0.1.0)\n"
     ]
    }
   ],
   "source": [
    "#9\n",
    "!pip install --no-deps simple-benchmark"
   ]
  },
  {
   "cell_type": "markdown",
   "id": "500050b8",
   "metadata": {},
   "source": [
    "Завдання 10"
   ]
  },
  {
   "cell_type": "code",
   "execution_count": 3,
   "id": "d5e27940",
   "metadata": {
    "ExecuteTime": {
     "end_time": "2021-09-30T06:51:07.765146Z",
     "start_time": "2021-09-30T06:51:07.752175Z"
    }
   },
   "outputs": [
    {
     "data": {
      "text/plain": [
       "0.9957206003780863"
      ]
     },
     "execution_count": 3,
     "metadata": {},
     "output_type": "execute_result"
    }
   ],
   "source": [
    "#10.1\n",
    "def func2_list(n):\n",
    "    r = [random.uniform(-1, 1) for i in range(0, n)]\n",
    "    result = math.exp(sum(r)/n)\n",
    "    \n",
    "    return result\n",
    "\n",
    "func2_list(10000)"
   ]
  },
  {
   "cell_type": "code",
   "execution_count": 4,
   "id": "4de2185f",
   "metadata": {
    "ExecuteTime": {
     "end_time": "2021-09-30T06:51:13.397138Z",
     "start_time": "2021-09-30T06:51:13.369612Z"
    }
   },
   "outputs": [
    {
     "data": {
      "text/plain": [
       "1.173078725238102"
      ]
     },
     "execution_count": 4,
     "metadata": {},
     "output_type": "execute_result"
    }
   ],
   "source": [
    "#10.2\n",
    "def func3_list(n):\n",
    "    r = [random.uniform(-1, 1) for i in range(0, n)]\n",
    "    r = list(map(math.exp, r))\n",
    "    result = sum(r)/n\n",
    "    \n",
    "    return result\n",
    "\n",
    "func3_list(10000)"
   ]
  },
  {
   "cell_type": "code",
   "execution_count": 5,
   "id": "ab743741",
   "metadata": {
    "ExecuteTime": {
     "end_time": "2021-09-30T06:52:02.202485Z",
     "start_time": "2021-09-30T06:51:15.064983Z"
    }
   },
   "outputs": [
    {
     "data": {
      "text/plain": [
       "0.00011163072933332007"
      ]
     },
     "execution_count": 5,
     "metadata": {},
     "output_type": "execute_result"
    }
   ],
   "source": [
    "#10.3\n",
    "def func4_list(n):\n",
    "    r = [[random.uniform(-1, 1) for j in range(0, n)] for i in range(0, n)]\n",
    "    result = sum(map(sum, r))/(n ** 2)\n",
    "    \n",
    "    return result\n",
    "\n",
    "func4_list(10000)\n"
   ]
  },
  {
   "cell_type": "markdown",
   "id": "6d22a558",
   "metadata": {},
   "source": [
    "Завдання 11"
   ]
  },
  {
   "cell_type": "code",
   "execution_count": 6,
   "id": "2f3462a3",
   "metadata": {
    "ExecuteTime": {
     "end_time": "2021-09-30T06:52:03.978498Z",
     "start_time": "2021-09-30T06:52:03.803407Z"
    }
   },
   "outputs": [
    {
     "data": {
      "text/plain": [
       "1.0028112976463475"
      ]
     },
     "execution_count": 6,
     "metadata": {},
     "output_type": "execute_result"
    }
   ],
   "source": [
    "#11.1\n",
    "def func2_np(n):\n",
    "    r = numpy.random.uniform(size = n, low = 1, high = -1)\n",
    "    result = numpy.exp(numpy.sum(r)/n)\n",
    "    return result\n",
    "func2_np(10000)\n"
   ]
  },
  {
   "cell_type": "code",
   "execution_count": 7,
   "id": "05965718",
   "metadata": {
    "ExecuteTime": {
     "end_time": "2021-09-30T06:52:05.345252Z",
     "start_time": "2021-09-30T06:52:05.314381Z"
    }
   },
   "outputs": [
    {
     "data": {
      "text/plain": [
       "1.1782197718869816"
      ]
     },
     "execution_count": 7,
     "metadata": {},
     "output_type": "execute_result"
    }
   ],
   "source": [
    "#11.2\n",
    "def func3_np(n):\n",
    "    r = numpy.random.uniform(size = n, low = 1, high = -1)\n",
    "    r = numpy.array(list(map(numpy.exp, r)))\n",
    "    \n",
    "    #якщо не використовувати map i list\n",
    "    #for i in range(0, n):\n",
    "    #    r[i] = numpy.exp(r[i])\n",
    "    \n",
    "    result = numpy.sum(r)/n\n",
    "    \n",
    "    return result\n",
    "\n",
    "func3_np(10000)"
   ]
  },
  {
   "cell_type": "code",
   "execution_count": 8,
   "id": "0937a5f6",
   "metadata": {
    "ExecuteTime": {
     "end_time": "2021-09-30T06:52:08.037349Z",
     "start_time": "2021-09-30T06:52:06.985158Z"
    }
   },
   "outputs": [
    {
     "data": {
      "text/plain": [
       "-4.7226192161697875e-05"
      ]
     },
     "execution_count": 8,
     "metadata": {},
     "output_type": "execute_result"
    }
   ],
   "source": [
    "#11.3\n",
    "\n",
    "def func4_np(n):\n",
    "    r = numpy.random.uniform(size = (n, n), low = -1, high = 1)\n",
    "    result = numpy.sum(list(map(numpy.sum, r)))/(n ** 2)\n",
    "    \n",
    "    return result\n",
    "\n",
    "func4_np(10000)"
   ]
  },
  {
   "cell_type": "markdown",
   "id": "c3dd9056",
   "metadata": {},
   "source": [
    "Завдання 12"
   ]
  },
  {
   "cell_type": "code",
   "execution_count": 25,
   "id": "f0dfc04f",
   "metadata": {
    "ExecuteTime": {
     "end_time": "2021-09-30T07:24:17.091067Z",
     "start_time": "2021-09-30T07:23:56.563452Z"
    }
   },
   "outputs": [
    {
     "data": {
      "image/png": "[encoded data removed]",
      "text/plain": [
       "<Figure size 432x288 with 1 Axes>"
      ]
     },
     "metadata": {
      "needs_background": "light"
     },
     "output_type": "display_data"
    }
   ],
   "source": [
    "#12\n",
    "args_2 = {2 ** i:  2 ** i for i in range(1, 21)}\n",
    "bench_2 = benchmark([func2_list, func2_np,func3_list, func3_np], args_2)\n",
    "bench_2.plot()"
   ]
  },
  {
   "cell_type": "markdown",
   "id": "1b2d0f60",
   "metadata": {},
   "source": [
    "Завдання 13"
   ]
  },
  {
   "cell_type": "code",
   "execution_count": 33,
   "id": "335575ec",
   "metadata": {
    "ExecuteTime": {
     "end_time": "2021-09-30T09:24:38.383625Z",
     "start_time": "2021-09-30T09:22:38.010345Z"
    }
   },
   "outputs": [
    {
     "data": {
      "image/png": "[encoded data removed]",
      "text/plain": [
       "<Figure size 432x288 with 1 Axes>"
      ]
     },
     "metadata": {
      "needs_background": "light"
     },
     "output_type": "display_data"
    }
   ],
   "source": [
    "#13\n",
    "args_3 = {2 ** i: 2 ** i for i in range(1, 14)}\n",
    "bench_3 = benchmark([func2_list, func2_np,func3_list, func3_np, func4_list, func4_np], args_3)\n",
    "bench_3.plot()"
   ]
  }
 ],
 "metadata": {
  "kernelspec": {
   "display_name": "Python 3",
   "language": "python",
   "name": "python3"
  },
  "language_info": {
   "codemirror_mode": {
    "name": "ipython",
    "version": 3
   },
   "file_extension": ".py",
   "mimetype": "text/x-python",
   "name": "python",
   "nbconvert_exporter": "python",
   "pygments_lexer": "ipython3",
   "version": "3.8.8"
  }
 },
 "nbformat": 4,
 "nbformat_minor": 5
}
