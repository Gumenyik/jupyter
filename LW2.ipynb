{
 "cells": [
  {
   "cell_type": "code",
   "execution_count": 38,
   "id": "b900173c",
   "metadata": {
    "ExecuteTime": {
     "end_time": "2021-09-30T14:51:19.994767Z",
     "start_time": "2021-09-30T14:51:19.988784Z"
    }
   },
   "outputs": [],
   "source": [
    "import numpy as np \n",
    "import matplotlib.pyplot as plt\n",
    "import pandas as pd  \n",
    "import seaborn as seaborn"
   ]
  },
  {
   "cell_type": "markdown",
   "id": "5b36c18b",
   "metadata": {},
   "source": [
    "Завдання 1"
   ]
  },
  {
   "cell_type": "code",
   "execution_count": 39,
   "id": "12a09d19",
   "metadata": {
    "ExecuteTime": {
     "end_time": "2021-09-30T14:51:20.984374Z",
     "start_time": "2021-09-30T14:51:20.980385Z"
    }
   },
   "outputs": [],
   "source": [
    "x = np.arange(np.pi * (-8), np.pi * (8), np.pi / 10, dtype = np.float32 )"
   ]
  },
  {
   "cell_type": "markdown",
   "id": "1df7a0a6",
   "metadata": {},
   "source": [
    "Завдання 2"
   ]
  },
  {
   "cell_type": "code",
   "execution_count": 40,
   "id": "0bc59126",
   "metadata": {
    "ExecuteTime": {
     "end_time": "2021-09-30T14:51:22.173377Z",
     "start_time": "2021-09-30T14:51:22.157155Z"
    }
   },
   "outputs": [],
   "source": [
    "y1 = np.exp((x ** 2) * (-0.01) )"
   ]
  },
  {
   "cell_type": "markdown",
   "id": "60084ead",
   "metadata": {},
   "source": [
    "Завдання 3"
   ]
  },
  {
   "cell_type": "code",
   "execution_count": 41,
   "id": "4a8b5c56",
   "metadata": {
    "ExecuteTime": {
     "end_time": "2021-09-30T14:51:23.378951Z",
     "start_time": "2021-09-30T14:51:23.364327Z"
    }
   },
   "outputs": [],
   "source": [
    "y2 = np.exp((-0.01) * (x ** 2) ) * np.cos(x)"
   ]
  },
  {
   "cell_type": "markdown",
   "id": "8f64ef76",
   "metadata": {},
   "source": [
    "Завдання 4"
   ]
  },
  {
   "cell_type": "code",
   "execution_count": 42,
   "id": "7de64641",
   "metadata": {
    "ExecuteTime": {
     "end_time": "2021-09-30T14:51:24.508133Z",
     "start_time": "2021-09-30T14:51:24.500823Z"
    }
   },
   "outputs": [],
   "source": [
    "y3 = np.array(y2) + np.random.uniform(size = len(x), low = 0.1, high = -0.1)"
   ]
  },
  {
   "cell_type": "markdown",
   "id": "a1d34b25",
   "metadata": {},
   "source": [
    "Завдання 5"
   ]
  },
  {
   "cell_type": "code",
   "execution_count": 43,
   "id": "fa2d1aad",
   "metadata": {
    "ExecuteTime": {
     "end_time": "2021-09-30T14:51:27.066060Z",
     "start_time": "2021-09-30T14:51:27.059886Z"
    }
   },
   "outputs": [
    {
     "name": "stdout",
     "output_type": "stream",
     "text": [
      "Variable        Type       Data/Info\n",
      "------------------------------------\n",
      "bool_array_y3   ndarray    160: 160 elems, type `bool`, 160 bytes\n",
      "x               ndarray    160: 160 elems, type `float32`, 640 bytes\n",
      "y1              ndarray    160: 160 elems, type `float32`, 640 bytes\n",
      "y2              ndarray    160: 160 elems, type `float32`, 640 bytes\n",
      "y3              ndarray    160: 160 elems, type `float64`, 1280 bytes\n"
     ]
    }
   ],
   "source": [
    "%whos ndarray"
   ]
  },
  {
   "cell_type": "code",
   "execution_count": 44,
   "id": "4fd92e86",
   "metadata": {
    "ExecuteTime": {
     "end_time": "2021-09-30T14:51:28.263324Z",
     "start_time": "2021-09-30T14:51:28.243581Z"
    }
   },
   "outputs": [
    {
     "data": {
      "text/plain": [
       "array([-0.05865948, -0.08049203, -0.03878194,  0.08146858,  0.04559191,\n",
       "        0.010651  , -0.06811802, -0.02262027,  0.03278457, -0.08546811,\n",
       "        0.0824065 , -0.0750888 ,  0.03789691,  0.02352431, -0.01775252,\n",
       "       -0.0631813 ,  0.04826234,  0.03444977,  0.11408624,  0.02872576,\n",
       "       -0.06468832,  0.04090228, -0.07016615, -0.00836079,  0.09893402,\n",
       "       -0.07392439,  0.02289914,  0.00737749, -0.04245327,  0.01712899,\n",
       "       -0.11916141,  0.00593845, -0.04577212, -0.12517905,  0.04843549,\n",
       "       -0.01242453, -0.04588792,  0.15283799,  0.09726318,  0.10259903,\n",
       "        0.22505519,  0.30194888,  0.10714976,  0.17699812,  0.15004367,\n",
       "        0.0140926 , -0.13415888, -0.14609611, -0.2443062 , -0.33461475,\n",
       "       -0.4304534 , -0.47494856, -0.39696604, -0.24269788, -0.19883189,\n",
       "       -0.01379394,  0.08607125,  0.2603116 ,  0.42228463,  0.56356937,\n",
       "        0.68946433,  0.75869304,  0.584598  ,  0.44965327,  0.2680192 ,\n",
       "       -0.07689369, -0.23806173, -0.51506406, -0.7198631 , -0.8472096 ,\n",
       "       -0.9805037 , -0.8788591 , -0.67881227, -0.5366106 , -0.3571641 ,\n",
       "        0.01068977,  0.26677233,  0.6607346 ,  0.8716136 ,  1.0454245 ,\n",
       "        0.9583893 ,  0.8799362 ,  0.8424052 ,  0.5956537 ,  0.34262034,\n",
       "       -0.06688743, -0.20907938, -0.5882042 , -0.8429537 , -0.86118627,\n",
       "       -0.8774429 , -0.7463224 , -0.78556484, -0.56759983, -0.2662349 ,\n",
       "       -0.09810815,  0.24933226,  0.3463442 ,  0.5535201 ,  0.6937104 ,\n",
       "        0.7063817 ,  0.64694446,  0.5950097 ,  0.38046595,  0.09145655,\n",
       "        0.08597312, -0.14056449, -0.3430116 , -0.45722303, -0.4011348 ,\n",
       "       -0.5111555 , -0.36425743, -0.23985502, -0.13455592, -0.1823722 ,\n",
       "       -0.04208276,  0.15623638,  0.24134989,  0.24978863,  0.19664459,\n",
       "        0.29166052,  0.21745178,  0.18481308,  0.00155481, -0.00417265,\n",
       "        0.03425279, -0.13137323, -0.11648718, -0.0592943 , -0.11854409,\n",
       "       -0.16727942, -0.01186449, -0.06033713,  0.01223379, -0.02859225,\n",
       "       -0.01648515, -0.01597949,  0.03393443,  0.08304527,  0.11921156,\n",
       "        0.01856157, -0.02647919,  0.01799045, -0.02911712, -0.03705218,\n",
       "       -0.04200862,  0.04412467, -0.08781575,  0.05268994,  0.03966336,\n",
       "       -0.07341795, -0.0084932 ,  0.0763888 ,  0.0881754 , -0.07731923,\n",
       "       -0.00392119,  0.08331715, -0.02341956,  0.07017305, -0.03063555],\n",
       "      dtype=float32)"
      ]
     },
     "execution_count": 44,
     "metadata": {},
     "output_type": "execute_result"
    }
   ],
   "source": [
    "y3.astype(np.float32)"
   ]
  },
  {
   "cell_type": "markdown",
   "id": "2fcd36ca",
   "metadata": {},
   "source": [
    "Завдання 6"
   ]
  },
  {
   "cell_type": "code",
   "execution_count": 45,
   "id": "5b61d00e",
   "metadata": {
    "ExecuteTime": {
     "end_time": "2021-09-30T14:51:30.320016Z",
     "start_time": "2021-09-30T14:51:30.315900Z"
    }
   },
   "outputs": [],
   "source": [
    "y2[42:47] = np.nan\n",
    "y3[63:66] = np.nan"
   ]
  },
  {
   "cell_type": "code",
   "execution_count": 46,
   "id": "604d380a",
   "metadata": {
    "ExecuteTime": {
     "end_time": "2021-09-30T14:51:31.982041Z",
     "start_time": "2021-09-30T14:51:31.972448Z"
    }
   },
   "outputs": [
    {
     "name": "stdout",
     "output_type": "stream",
     "text": [
      "y2\n",
      " [ 2.0615323e-01  2.1196185e-01            nan            nan\n",
      "            nan            nan            nan -2.0065160e-01\n",
      " -2.9447013e-01 -3.6837721e-01 -4.1136956e-01 -4.1469318e-01\n",
      " -3.7317207e-01 -2.8624848e-01 -1.5856950e-01  3.4202264e-06\n",
      "  1.7502485e-01  3.4872010e-01  5.0176752e-01  6.1543357e-01\n",
      "  6.7382604e-01  6.6599309e-01  5.8759642e-01  4.4191641e-01\n",
      "  2.4001758e-01 -6.1005499e-06 -2.5467202e-01 -4.9749070e-01\n",
      " -7.0183903e-01 -8.4400171e-01] \n",
      "y3\n",
      " [ 0.22505518  0.30194887  0.10714976  0.17699812  0.15004366  0.0140926\n",
      " -0.13415888 -0.14609612 -0.24430621 -0.33461476 -0.43045338 -0.47494856\n",
      " -0.39696604 -0.24269788 -0.19883188 -0.01379394  0.08607125  0.26031161\n",
      "  0.42228463  0.56356934  0.68946433  0.75869307  0.58459798         nan\n",
      "         nan         nan -0.23806173 -0.51506407 -0.71986312 -0.84720956]\n"
     ]
    }
   ],
   "source": [
    "print(\"y2\\n\", y2[40:70],\"\\ny3\\n\", y3[40:70])"
   ]
  },
  {
   "cell_type": "markdown",
   "id": "888b7190",
   "metadata": {},
   "source": [
    "Завдання 7"
   ]
  },
  {
   "cell_type": "code",
   "execution_count": 111,
   "id": "338ea1f4",
   "metadata": {
    "ExecuteTime": {
     "end_time": "2021-09-30T16:10:09.306393Z",
     "start_time": "2021-09-30T16:10:08.923375Z"
    }
   },
   "outputs": [
    {
     "data": {
      "image/png": "[encoded data removed]",
      "text/plain": [
       "<Figure size 432x288 with 1 Axes>"
      ]
     },
     "metadata": {
      "needs_background": "light"
     },
     "output_type": "display_data"
    }
   ],
   "source": [
    "plt.plot(x, y1,'k--', label='$\\pm y_1(x)$')\n",
    "plt.plot(x, -y1,'k--', color='green')\n",
    "plt.plot(x, y2, label='$\\pm y_2(x)$', color='blue')\n",
    "plt.plot(x, y3, label='$\\pm y_3(x)$', color='red')\n",
    "\n",
    "plt.legend()\n",
    "plt.xlabel(\"x\")\n",
    "plt.ylabel(\"y\")\n",
    "\n",
    "ticks =[-8*np.pi, -4*np.pi, 0, 4*np.pi, 8*np.pi]\n",
    "labels = ['$-8\\pi$','$-4\\pi$', 0,'$4\\pi$','$8\\pi$']\n",
    "plt.xticks(ticks, labels)\n",
    "plt.yticks([-1.0, -0.5, 0, 0.5, 1.0],['-1.0', '-0.5', '0.0', '0.5', '1.0'] )\n",
    "\n",
    "plt.title(\"Графіки функцій $\\pm y_1(x)$ = $\\pm e^{-0.01x^2} $,\\\n",
    "$y_2(x) = e^{-0.01x^2}$cos(x)\\n і \\\"експерементальна\\\" \\\n",
    "залежність $y_3(x_i)$\")\n",
    "\n",
    "\n",
    "plt.show()"
   ]
  },
  {
   "cell_type": "markdown",
   "id": "01036864",
   "metadata": {},
   "source": [
    "Завдання 8"
   ]
  },
  {
   "cell_type": "code",
   "execution_count": 48,
   "id": "b591d792",
   "metadata": {
    "ExecuteTime": {
     "end_time": "2021-09-30T14:51:40.503806Z",
     "start_time": "2021-09-30T14:51:40.061293Z"
    }
   },
   "outputs": [
    {
     "name": "stdout",
     "output_type": "stream",
     "text": [
      "Середнє значення:  -0.03089460012475354\n",
      "Медіана:  -0.3500878406974518\n"
     ]
    }
   ],
   "source": [
    "bool_array_y3 = (y3 ** 2) > 0.1\n",
    "print(\"Середнє значення: \", np.mean(y3[bool_array_y3]))\n",
    "print(\"Медіана: \", np.median(y3[bool_array_y3]))"
   ]
  },
  {
   "cell_type": "markdown",
   "id": "08bfc094",
   "metadata": {},
   "source": [
    "Завдання 9"
   ]
  },
  {
   "cell_type": "code",
   "execution_count": 49,
   "id": "449006ef",
   "metadata": {
    "ExecuteTime": {
     "end_time": "2021-09-30T14:51:49.572050Z",
     "start_time": "2021-09-30T14:51:49.564658Z"
    }
   },
   "outputs": [],
   "source": [
    "np.save('x.npy', x)\n",
    "np.save('y1.npy', y1)\n",
    "np.save('y2.npy', y2)\n",
    "np.save('y3.npy', y3)"
   ]
  },
  {
   "cell_type": "markdown",
   "id": "ecb5dada",
   "metadata": {},
   "source": [
    "Завдання 10"
   ]
  },
  {
   "cell_type": "code",
   "execution_count": 56,
   "id": "485d9e3f",
   "metadata": {
    "ExecuteTime": {
     "end_time": "2021-09-30T14:52:34.498875Z",
     "start_time": "2021-09-30T14:52:34.492891Z"
    },
    "scrolled": true
   },
   "outputs": [],
   "source": [
    "np.savez_compressed('xy.npz', x = x, y1=y1, y2=y2, y3=y3)"
   ]
  },
  {
   "cell_type": "markdown",
   "id": "25b83da2",
   "metadata": {
    "ExecuteTime": {
     "end_time": "2021-09-30T14:41:46.099024Z",
     "start_time": "2021-09-30T14:41:46.084062Z"
    }
   },
   "source": [
    "Завдання 11"
   ]
  },
  {
   "cell_type": "code",
   "execution_count": 63,
   "id": "f643a0f8",
   "metadata": {
    "ExecuteTime": {
     "end_time": "2021-09-30T14:54:11.380858Z",
     "start_time": "2021-09-30T14:54:11.363729Z"
    }
   },
   "outputs": [],
   "source": [
    "xy = np.load('xy.npz')"
   ]
  },
  {
   "cell_type": "code",
   "execution_count": 60,
   "id": "48a625d0",
   "metadata": {
    "ExecuteTime": {
     "end_time": "2021-09-30T14:52:40.648426Z",
     "start_time": "2021-09-30T14:52:40.628479Z"
    }
   },
   "outputs": [
    {
     "data": {
      "text/plain": [
       "True"
      ]
     },
     "execution_count": 60,
     "metadata": {},
     "output_type": "execute_result"
    }
   ],
   "source": [
    "np.array_equal(xy['x'], x)"
   ]
  },
  {
   "cell_type": "code",
   "execution_count": 59,
   "id": "06a072e7",
   "metadata": {
    "ExecuteTime": {
     "end_time": "2021-09-30T14:52:39.888521Z",
     "start_time": "2021-09-30T14:52:39.876555Z"
    }
   },
   "outputs": [
    {
     "data": {
      "text/plain": [
       "True"
      ]
     },
     "execution_count": 59,
     "metadata": {},
     "output_type": "execute_result"
    }
   ],
   "source": [
    "np.array_equal(xy['y1'], y1)"
   ]
  },
  {
   "cell_type": "code",
   "execution_count": 61,
   "id": "23681cfd",
   "metadata": {
    "ExecuteTime": {
     "end_time": "2021-09-30T14:53:59.300788Z",
     "start_time": "2021-09-30T14:53:59.292480Z"
    }
   },
   "outputs": [
    {
     "data": {
      "text/plain": [
       "True"
      ]
     },
     "execution_count": 61,
     "metadata": {},
     "output_type": "execute_result"
    }
   ],
   "source": [
    "np.array_equal(xy['y2'], y2, equal_nan = True)"
   ]
  },
  {
   "cell_type": "code",
   "execution_count": 62,
   "id": "a9fd0eeb",
   "metadata": {
    "ExecuteTime": {
     "end_time": "2021-09-30T14:54:00.474721Z",
     "start_time": "2021-09-30T14:54:00.460620Z"
    }
   },
   "outputs": [
    {
     "data": {
      "text/plain": [
       "True"
      ]
     },
     "execution_count": 62,
     "metadata": {},
     "output_type": "execute_result"
    }
   ],
   "source": [
    "np.array_equal(xy['y3'], y3, equal_nan = True)"
   ]
  },
  {
   "cell_type": "markdown",
   "id": "6f95b6a1",
   "metadata": {},
   "source": [
    "Завдання 12"
   ]
  },
  {
   "cell_type": "code",
   "execution_count": 93,
   "id": "9ac73edb",
   "metadata": {
    "ExecuteTime": {
     "end_time": "2021-09-30T15:28:51.559973Z",
     "start_time": "2021-09-30T15:28:51.552022Z"
    }
   },
   "outputs": [],
   "source": [
    "xy_tr = np.vstack((x, y1, y2, y3)).T\n",
    "np.savetxt('xy.csv', xy_tr,  delimiter=',', header='x,y1,y2,y3')"
   ]
  },
  {
   "cell_type": "markdown",
   "id": "56da0aaa",
   "metadata": {},
   "source": [
    "Завдання 14"
   ]
  },
  {
   "cell_type": "code",
   "execution_count": 105,
   "id": "11e89dc3",
   "metadata": {
    "ExecuteTime": {
     "end_time": "2021-09-30T15:48:48.948255Z",
     "start_time": "2021-09-30T15:48:48.935775Z"
    }
   },
   "outputs": [
    {
     "name": "stdout",
     "output_type": "stream",
     "text": [
      "[-25.132742 -24.818583 -24.504423 -24.190264 -23.876104 -23.561945\n",
      " -23.247786 -22.933626 -22.619467 -22.305307]\n"
     ]
    }
   ],
   "source": [
    "data = np.genfromtxt('xy.csv', dtype=[('x','f4'),('y1','f4'),('y2','f4'),('y3','f8'),],\n",
    "                     delimiter=\",\", names=True)\n",
    "print(data[:10]['x'])"
   ]
  },
  {
   "cell_type": "markdown",
   "id": "aa4cb82d",
   "metadata": {},
   "source": [
    "Завдання 15"
   ]
  },
  {
   "cell_type": "code",
   "execution_count": 106,
   "id": "7b4bb301",
   "metadata": {
    "ExecuteTime": {
     "end_time": "2021-09-30T15:50:22.825865Z",
     "start_time": "2021-09-30T15:50:22.807907Z"
    }
   },
   "outputs": [
    {
     "data": {
      "text/plain": [
       "True"
      ]
     },
     "execution_count": 106,
     "metadata": {},
     "output_type": "execute_result"
    }
   ],
   "source": [
    "np.array_equal(x, data['x'])"
   ]
  },
  {
   "cell_type": "code",
   "execution_count": 108,
   "id": "4e483095",
   "metadata": {
    "ExecuteTime": {
     "end_time": "2021-09-30T15:51:07.613819Z",
     "start_time": "2021-09-30T15:51:07.600057Z"
    }
   },
   "outputs": [
    {
     "data": {
      "text/plain": [
       "True"
      ]
     },
     "execution_count": 108,
     "metadata": {},
     "output_type": "execute_result"
    }
   ],
   "source": [
    "np.array_equal(y3, data['y3'], equal_nan = True)"
   ]
  },
  {
   "cell_type": "markdown",
   "id": "ea8660f8",
   "metadata": {},
   "source": [
    "Завдання 16"
   ]
  },
  {
   "cell_type": "code",
   "execution_count": 109,
   "id": "f36f47ee",
   "metadata": {
    "ExecuteTime": {
     "end_time": "2021-09-30T15:52:19.878719Z",
     "start_time": "2021-09-30T15:52:19.457017Z"
    }
   },
   "outputs": [
    {
     "data": {
      "text/plain": [
       "[<matplotlib.lines.Line2D at 0x2046b74e040>]"
      ]
     },
     "execution_count": 109,
     "metadata": {},
     "output_type": "execute_result"
    },
    {
     "data": {
      "image/png": "[encoded data removed]",
      "text/plain": [
       "<Figure size 432x288 with 1 Axes>"
      ]
     },
     "metadata": {
      "needs_background": "light"
     },
     "output_type": "display_data"
    }
   ],
   "source": [
    "plt.plot('x', 'y2', 'r', data=data)"
   ]
  }
 ],
 "metadata": {
  "kernelspec": {
   "display_name": "Python 3",
   "language": "python",
   "name": "python3"
  },
  "language_info": {
   "codemirror_mode": {
    "name": "ipython",
    "version": 3
   },
   "file_extension": ".py",
   "mimetype": "text/x-python",
   "name": "python",
   "nbconvert_exporter": "python",
   "pygments_lexer": "ipython3",
   "version": "3.8.8"
  }
 },
 "nbformat": 4,
 "nbformat_minor": 5
}
